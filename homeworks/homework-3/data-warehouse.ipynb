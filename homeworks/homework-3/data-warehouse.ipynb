{
 "cells": [
  {
   "cell_type": "markdown",
   "metadata": {},
   "source": [
    "# Libraries : "
   ]
  },
  {
   "cell_type": "code",
   "execution_count": 19,
   "metadata": {},
   "outputs": [],
   "source": [
    "import requests\n",
    "import pandas as pd\n",
    "import os\n",
    "import io\n",
    "from google.cloud import storage\n",
    "from google.cloud import bigquery"
   ]
  },
  {
   "cell_type": "markdown",
   "metadata": {},
   "source": [
    "# Downloading data : "
   ]
  },
  {
   "cell_type": "code",
   "execution_count": 15,
   "metadata": {},
   "outputs": [],
   "source": [
    "#https://d37ci6vzurychx.cloudfront.net/trip-data/yellow_tripdata_2024-01.parquet\n",
    "month_list = ['01','02','03','04','05','06']\n",
    "for i in month_list:\n",
    "    response = requests.get(f'https://d37ci6vzurychx.cloudfront.net/trip-data/yellow_tripdata_2024-{i}.parquet')\n",
    "    downloaded_file = pd.read_parquet(io.BytesIO(response.content))\n",
    "    downloaded_file.to_csv(f'data/yellow_tripdata_2024-{i}.csv')\n"
   ]
  },
  {
   "cell_type": "markdown",
   "metadata": {},
   "source": [
    "# Authentication to GCP : "
   ]
  },
  {
   "cell_type": "code",
   "execution_count": null,
   "metadata": {},
   "outputs": [],
   "source": [
    "os.environ[\"GOOGLE_APPLICATION_CREDENTIALS\"] = \"D:/other/project/data-engineering/homeworks/homework-3/credential.json\"\n",
    "print(os.environ.get(\"GOOGLE_APPLICATION_CREDENTIALS\"))"
   ]
  },
  {
   "cell_type": "markdown",
   "metadata": {},
   "source": [
    "# Upload to bucket : "
   ]
  },
  {
   "cell_type": "code",
   "execution_count": null,
   "metadata": {},
   "outputs": [
    {
     "name": "stdout",
     "output_type": "stream",
     "text": [
      "D:/other/project/data-engineering/homeworks/homework-3/credential.json\n",
      "bucket ny-taxi-project-448909-hw3 was created\n"
     ]
    },
    {
     "name": "stderr",
     "output_type": "stream",
     "text": [
      "c:\\Users\\Sina\\AppData\\Local\\Programs\\Python\\Python313\\Lib\\site-packages\\google_crc32c\\__init__.py:29: RuntimeWarning: As the c extension couldn't be imported, `google-crc32c` is using a pure python implementation that is significantly slower. If possible, please configure a c build environment and compile the extension\n",
      "  warnings.warn(_SLOW_CRC32C_WARNING, RuntimeWarning)\n"
     ]
    },
    {
     "name": "stdout",
     "output_type": "stream",
     "text": [
      "yellow_tripdata_2024-01.csv uploaded to ny-taxi-project-448909-hw3\n",
      "yellow_tripdata_2024-02.csv uploaded to ny-taxi-project-448909-hw3\n",
      "yellow_tripdata_2024-03.csv uploaded to ny-taxi-project-448909-hw3\n",
      "yellow_tripdata_2024-04.csv uploaded to ny-taxi-project-448909-hw3\n",
      "yellow_tripdata_2024-05.csv uploaded to ny-taxi-project-448909-hw3\n",
      "yellow_tripdata_2024-06.csv uploaded to ny-taxi-project-448909-hw3\n"
     ]
    }
   ],
   "source": [
    "\n",
    "storage_client = storage.Client()\n",
    "bucket_name = 'ny-taxi-project-448909-hw3'\n",
    "bucket = storage_client.create_bucket(bucket_name)\n",
    "print(f'bucket {bucket_name} was created')\n",
    "directory = 'D:/other/project/data-engineering/homeworks/homework-3/data'\n",
    "\n",
    "for file_name in os.listdir(directory):\n",
    "    if file_name.endswith('.csv'):\n",
    "        file_path = os.path.join(directory,file_name)\n",
    "        blob = bucket.blob(file_name)\n",
    "        blob.upload_from_filename(file_path)\n",
    "        print(f'{file_name} uploaded to {bucket_name}') "
   ]
  },
  {
   "cell_type": "markdown",
   "metadata": {},
   "source": [
    "# Create a dataset : "
   ]
  },
  {
   "cell_type": "code",
   "execution_count": 21,
   "metadata": {},
   "outputs": [
    {
     "name": "stdout",
     "output_type": "stream",
     "text": [
      "The ny-taxi-project-448909.HW_3 dataset was created\n"
     ]
    }
   ],
   "source": [
    "bigquery_client = bigquery.Client()\n",
    "dataset_id = f'{bigquery_client.project}.HW_3'\n",
    "dataset = bigquery.Dataset(dataset_id)\n",
    "dataset.location = 'US'\n",
    "dataset = bigquery_client.create_dataset(dataset)\n",
    "print(f'The {dataset_id} dataset was created')"
   ]
  }
 ],
 "metadata": {
  "kernelspec": {
   "display_name": "Python 3",
   "language": "python",
   "name": "python3"
  },
  "language_info": {
   "codemirror_mode": {
    "name": "ipython",
    "version": 3
   },
   "file_extension": ".py",
   "mimetype": "text/x-python",
   "name": "python",
   "nbconvert_exporter": "python",
   "pygments_lexer": "ipython3",
   "version": "3.13.1"
  }
 },
 "nbformat": 4,
 "nbformat_minor": 2
}
